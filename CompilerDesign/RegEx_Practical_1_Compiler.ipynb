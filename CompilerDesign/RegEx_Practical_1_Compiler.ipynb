{
  "nbformat": 4,
  "nbformat_minor": 0,
  "metadata": {
    "colab": {
      "provenance": []
    },
    "kernelspec": {
      "name": "python3",
      "display_name": "Python 3"
    },
    "language_info": {
      "name": "python"
    }
  },
  "cells": [
    {
      "cell_type": "code",
      "source": [
        "import re"
      ],
      "metadata": {
        "id": "-ouAcW63uQwN"
      },
      "execution_count": null,
      "outputs": []
    },
    {
      "cell_type": "code",
      "execution_count": null,
      "metadata": {
        "colab": {
          "base_uri": "https://localhost:8080/"
        },
        "id": "fP3F8kV5WWxy",
        "outputId": "85b4d38f-a6cf-4060-e54e-9f3bf0f13f66"
      },
      "outputs": [
        {
          "output_type": "stream",
          "name": "stdout",
          "text": [
            "Error: File not found at /content/test.txt\n",
            "The file /content/test.txt does not contain 'if {} else {}' statements.\n"
          ]
        }
      ],
      "source": [
        "def check_if_else_statement(filepath):\n",
        "    try:\n",
        "        with open(filepath, 'r') as file:\n",
        "            text = file.read()\n",
        "            #pattern = r\"if\\s*\\(dhawal\\)\\s*{[\\s\\S]*?siddh;[\\s\\S]*?faiyaz;[\\s\\S]*?}\\s*else\\s*{[\\s\\S]*?suraj;[\\s\\S]*?mitesh;[\\s\\S]*?}\"\n",
        "            #pattern = r\"switch\\s*\\(.*?\\)\\s*{[\\s\\S]*?case\\s+.*?:[\\s\\S]*?break;[\\s\\S]*?case\\s+.*?:[\\s\\S]*?break;[\\s\\S]*?default:[\\s\\S]*?}\"\n",
        "            pattern = r\"if\\s*\\(.*?\\)\\s*{(.*?)}\\s*else\\s*{(.*?)}\"\n",
        "            #pattern = r\"if\\s*\\(\\)\\s*{[\\s\\S]*?}\\s*else\\s*{[\\s\\S]*?}\"\n",
        "            #pattern = r\"if\\s*\\(([a-zA-Z0-9!@#$%^&*()_+\\-=\\[\\]{};':\\\"\\\\|,.<>\\/?]*)\\)\\s*{(.*?)}\\s*else\\s*{(.*?)}\"\n",
        "            match = re.search(pattern, text, re.DOTALL)\n",
        "            if match:\n",
        "                return True\n",
        "            else:\n",
        "                return False\n",
        "    except FileNotFoundError:\n",
        "        print(f\"Error: File not found at {filepath}\")\n",
        "        return False\n",
        "filepath = \"/content/test.txt\"\n",
        "if check_if_else_statement(filepath):\n",
        "    print(f\"The file {filepath} contains 'if {{}} else {{}}' statements.\")\n",
        "else:\n",
        "    print(f\"The file {filepath} does not contain 'if {{}} else {{}}' statements.\")"
      ]
    },
    {
      "cell_type": "code",
      "source": [
        "def check_if_else_statement(filepath):\n",
        "    try:\n",
        "        with open(filepath, 'r') as file:\n",
        "            text = file.read()\n",
        "            pattern = r\"if\\s*\\([\\s\\S]*?\\)\\s*{[\\s\\S]*?}\\s*else\\s*{[\\s\\S]*?}\"\n",
        "            match = re.search(pattern, text)\n",
        "            if match:\n",
        "                return True\n",
        "            else:\n",
        "                return False\n",
        "    except FileNotFoundError:\n",
        "        print(f\"Error: File not found at {filepath}\")\n",
        "        return False\n",
        "filepath = \"/content/test.txt\"\n",
        "if check_if_else_statement(filepath):\n",
        "    print(f\"The file {filepath} contains 'if {{}} else {{}}' statements.\")\n",
        "else:\n",
        "    print(f\"The file {filepath} does not contain 'if {{}} else {{}}' statements.\")"
      ],
      "metadata": {
        "colab": {
          "base_uri": "https://localhost:8080/"
        },
        "id": "JauIPISNhQSK",
        "outputId": "f5fedaec-b5eb-4612-fb75-17bbecbe2bb5"
      },
      "execution_count": null,
      "outputs": [
        {
          "output_type": "stream",
          "name": "stdout",
          "text": [
            "Error: File not found at /content/test.txt\n",
            "The file /content/test.txt does not contain 'if {} else {}' statements.\n"
          ]
        }
      ]
    },
    {
      "cell_type": "code",
      "source": [
        "def check_loops(filepath):\n",
        "    try:\n",
        "        with open(filepath, 'r') as file:\n",
        "            text = file.read()\n",
        "            # Patterns for loop types\n",
        "            for_pattern = r\"for\\s+\\w+\\s+in\\s+.+:\"\n",
        "            while_pattern = r\"while\\s+.+:\"\n",
        "            do_while_pattern = r\"do\\s*\\{\\s*(.*\\s*)+?\\}\\s*while\\s*\\(\\s*\\w+\\s*<\\s*\\d+\\s*\\)\\s*;\"\n",
        "\n",
        "\n",
        "            # Check for each loop type\n",
        "            has_for = re.search(for_pattern, text) is not None\n",
        "            has_while = re.search(while_pattern, text) is not None\n",
        "            has_do_while = re.search(do_while_pattern, text, re.MULTILINE) is not None\n",
        "\n",
        "            return has_for, has_while, has_do_while\n",
        "\n",
        "    except FileNotFoundError:\n",
        "        print(f\"Error: File not found at {filepath}\")\n",
        "        return False, False, False\n",
        "# Example usage\n",
        "\n",
        "filepath = r\"test.txt\"\n",
        "has_for, has_while, has_do_while = check_loops(filepath)\n",
        "\n",
        "if has_for:\n",
        "    print(\"The file contains 'for' loops.\")\n",
        "if has_while:\n",
        "    print(\"The file contains 'while' loops.\")\n",
        "if has_do_while:\n",
        "    print(\"The file contains 'do-while' loops.\")\n",
        "if not (has_for or has_while or has_do_while):\n",
        "    print(\"The file does not contain any of the specified loop types.\")\n"
      ],
      "metadata": {
        "id": "oLtZkAbboiuY",
        "colab": {
          "base_uri": "https://localhost:8080/"
        },
        "outputId": "e132134b-d73b-4bbf-843d-1c2a0c561475"
      },
      "execution_count": null,
      "outputs": [
        {
          "output_type": "stream",
          "name": "stdout",
          "text": [
            "The file contains 'for' loops.\n",
            "The file contains 'while' loops.\n",
            "The file contains 'do-while' loops.\n"
          ]
        }
      ]
    }
  ]
}