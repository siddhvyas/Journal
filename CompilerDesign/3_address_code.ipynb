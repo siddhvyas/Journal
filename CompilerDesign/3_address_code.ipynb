{
  "nbformat": 4,
  "nbformat_minor": 0,
  "metadata": {
    "colab": {
      "provenance": []
    },
    "kernelspec": {
      "name": "python3",
      "display_name": "Python 3"
    },
    "language_info": {
      "name": "python"
    }
  },
  "cells": [
    {
      "cell_type": "code",
      "execution_count": null,
      "metadata": {
        "id": "9YhUUthR71Pb"
      },
      "outputs": [],
      "source": [
        "(d=a+b-c+d*100-500*2)"
      ]
    },
    {
      "cell_type": "code",
      "source": [
        "import re\n",
        "import ast\n",
        "\n",
        "def generate_TAC(expression):\n",
        "    temp_count = 1\n",
        "    tac_code = []\n",
        "\n",
        "    def _generate_TAC_recursive(node):\n",
        "        nonlocal temp_count, tac_code\n",
        "\n",
        "        if isinstance(node, ast.BinOp):\n",
        "            left_temp = _generate_TAC_recursive(node.left)\n",
        "            right_temp = _generate_TAC_recursive(node.right)\n",
        "            temp_var = f't{temp_count}'\n",
        "            op_str = {\n",
        "                ast.Add: '+',\n",
        "                ast.Sub: '-',\n",
        "                ast.Mult: '*',\n",
        "                ast.Div: '/',\n",
        "            }.get(type(node.op), str(node.op))\n",
        "            tac_code.append(f'{temp_var} = {left_temp} {op_str} {right_temp}')\n",
        "            temp_count += 1\n",
        "            return temp_var\n",
        "        elif isinstance(node, ast.UnaryOp):\n",
        "            operand_temp = _generate_TAC_recursive(node.operand)\n",
        "            temp_var = f't{temp_count}'\n",
        "            tac_code.append(f'{temp_var} = {node.op} {operand_temp}')\n",
        "            temp_count += 1\n",
        "            return temp_var\n",
        "        elif isinstance(node, ast.Name):\n",
        "            return node.id\n",
        "        elif isinstance(node, ast.Constant):\n",
        "            return node.value\n",
        "\n",
        "    expression = expression.strip()\n",
        "    if expression.startswith('(') and expression.endswith(')'):\n",
        "        expression = expression[1:-1]\n",
        "\n",
        "    parsed_expression = ast.parse(expression).body[0]\n",
        "\n",
        "    if isinstance(parsed_expression, ast.Assign):\n",
        "        target_var = parsed_expression.targets[0].id\n",
        "        result_temp = _generate_TAC_recursive(parsed_expression.value)\n",
        "        tac_code.append(f'{target_var} = {result_temp}')\n",
        "    else:\n",
        "        result_temp = _generate_TAC_recursive(parsed_expression)\n",
        "        tac_code.append(f'Result = {result_temp}')\n",
        "    #print(d)\n",
        "    return tac_code\n",
        "\n",
        "\n",
        "expression = input(\"Enter a universal expression (d=a+b-c+d*100-500*2)(d=1+2-5+6*100-500*2): \")\n",
        "tac_code = generate_TAC(expression)\n",
        "for line in tac_code:\n",
        "    print(line)"
      ],
      "metadata": {
        "colab": {
          "base_uri": "https://localhost:8080/"
        },
        "id": "DAPblwwY78tl",
        "outputId": "4ff55405-f8fb-44e9-d73b-848b40b54891"
      },
      "execution_count": null,
      "outputs": [
        {
          "output_type": "stream",
          "name": "stdout",
          "text": [
            "Enter a universal expression (d=a+b-c+d*100-500*2)(d=1+2-5+6*100-500*2): d=a+b-c+d*100-500*2\n",
            "t1 = a + b\n",
            "t2 = t1 - c\n",
            "t3 = d * 100\n",
            "t4 = t2 + t3\n",
            "t5 = 500 * 2\n",
            "t6 = t4 - t5\n",
            "d = t6\n"
          ]
        }
      ]
    },
    {
      "cell_type": "code",
      "source": [
        "# prompt: print the temp varables from the above code in tabular format will be (1-termp 2-operand 3-varable 4-varable) give full code only temp varable\n",
        "\n",
        "import re\n",
        "import ast\n",
        "\n",
        "def generate_TAC(expression):\n",
        "    temp_count = 1\n",
        "    tac_code = []\n",
        "    temp_variables = []\n",
        "\n",
        "    def _generate_TAC_recursive(node):\n",
        "        nonlocal temp_count, tac_code, temp_variables\n",
        "\n",
        "        if isinstance(node, ast.BinOp):\n",
        "            left_temp = _generate_TAC_recursive(node.left)\n",
        "            right_temp = _generate_TAC_recursive(node.right)\n",
        "            temp_var = f't{temp_count}'\n",
        "            op_str = {\n",
        "                ast.Add: '+',\n",
        "                ast.Sub: '-',\n",
        "                ast.Mult: '*',\n",
        "                ast.Div: '/',\n",
        "            }.get(type(node.op), str(node.op))\n",
        "            tac_code.append(f'{temp_var} = {left_temp} {op_str} {right_temp}')\n",
        "            temp_variables.append((temp_var, left_temp, right_temp, op_str))\n",
        "            temp_count += 1\n",
        "            return temp_var\n",
        "        elif isinstance(node, ast.UnaryOp):\n",
        "            operand_temp = _generate_TAC_recursive(node.operand)\n",
        "            temp_var = f't{temp_count}'\n",
        "            tac_code.append(f'{temp_var} = {node.op} {operand_temp}')\n",
        "            temp_variables.append((temp_var, operand_temp, None, str(node.op)))\n",
        "            temp_count += 1\n",
        "            return temp_var\n",
        "        elif isinstance(node, ast.Name):\n",
        "            return node.id\n",
        "        elif isinstance(node, ast.Constant):\n",
        "            return node.value\n",
        "\n",
        "    expression = expression.strip()\n",
        "    if expression.startswith('(') and expression.endswith(')'):\n",
        "        expression = expression[1:-1]\n",
        "\n",
        "    parsed_expression = ast.parse(expression).body[0]\n",
        "\n",
        "    if isinstance(parsed_expression, ast.Assign):\n",
        "        target_var = parsed_expression.targets[0].id\n",
        "        result_temp = _generate_TAC_recursive(parsed_expression.value)\n",
        "        tac_code.append(f'{target_var} = {result_temp}')\n",
        "    else:\n",
        "        result_temp = _generate_TAC_recursive(parsed_expression)\n",
        "        tac_code.append(f'Result = {result_temp}')\n",
        "\n",
        "    return tac_code, temp_variables\n",
        "\n",
        "\n",
        "expression = input(\"Enter a universal expression (d=a+b-c+d*100-500*2)(d=1+2-5+6*100-500*2): \")\n",
        "tac_code, temp_variables = generate_TAC(expression)\n",
        "\n",
        "# for line in tac_code:\n",
        "#     print(line)\n",
        "\n",
        "print(\"\\nTemporary Variables Table:\")\n",
        "if temp_variables:\n",
        "    print(\"Temp\\tOperand1\\tOperand2\\tOperator\")\n",
        "    for var, op1, op2, op in temp_variables:\n",
        "        print(f\"{var}\\t{op1}\\t\\t{op2}\\t\\t{op}\")\n"
      ],
      "metadata": {
        "colab": {
          "base_uri": "https://localhost:8080/"
        },
        "id": "93w9pV-v8Bxm",
        "outputId": "788924cd-1238-49ac-d167-a10581fedc4c"
      },
      "execution_count": null,
      "outputs": [
        {
          "output_type": "stream",
          "name": "stdout",
          "text": [
            "Enter a universal expression (d=a+b-c+d*100-500*2)(d=1+2-5+6*100-500*2): d=a+b-c+d*100-500*2\n",
            "\n",
            "Temporary Variables Table:\n",
            "Temp\tOperand1\tOperand2\tOperator\n",
            "t1\ta\t\tb\t\t+\n",
            "t2\tt1\t\tc\t\t-\n",
            "t3\td\t\t100\t\t*\n",
            "t4\tt2\t\tt3\t\t+\n",
            "t5\t500\t\t2\t\t*\n",
            "t6\tt4\t\tt5\t\t-\n"
          ]
        }
      ]
    },
    {
      "cell_type": "code",
      "source": [
        "# prompt: print the temp varables from the above code in tabular format will be (1-termp 2-operand 3-varable 4-varable) give full code only temp varable\n",
        "\n",
        "import re\n",
        "import ast\n",
        "\n",
        "def generate_TAC(expression):\n",
        "    temp_count = 1\n",
        "    tac_code = []\n",
        "    temp_variables = []\n",
        "\n",
        "    def _generate_TAC_recursive(node):\n",
        "        nonlocal temp_count, tac_code, temp_variables\n",
        "\n",
        "        if isinstance(node, ast.BinOp):\n",
        "            left_temp = _generate_TAC_recursive(node.left)\n",
        "            right_temp = _generate_TAC_recursive(node.right)\n",
        "            temp_var = f't{temp_count}'\n",
        "            op_str = {\n",
        "                ast.Add: '+',\n",
        "                ast.Sub: '-',\n",
        "                ast.Mult: '*',\n",
        "                ast.Div: '/',\n",
        "            }.get(type(node.op), str(node.op))\n",
        "            tac_code.append(f'{temp_var} = {left_temp} {op_str} {right_temp}')\n",
        "            temp_variables.append((temp_var, left_temp, right_temp, op_str))\n",
        "            temp_count += 1\n",
        "            return temp_var\n",
        "        elif isinstance(node, ast.UnaryOp):\n",
        "            operand_temp = _generate_TAC_recursive(node.operand)\n",
        "            temp_var = f't{temp_count}'\n",
        "            tac_code.append(f'{temp_var} = {node.op} {operand_temp}')\n",
        "            temp_variables.append((temp_var, operand_temp, None, str(node.op)))\n",
        "            temp_count += 1\n",
        "            return temp_var\n",
        "        elif isinstance(node, ast.Name):\n",
        "            return node.id\n",
        "        elif isinstance(node, ast.Constant):\n",
        "            return node.value\n",
        "\n",
        "    expression = expression.strip()\n",
        "    if expression.startswith('(') and expression.endswith(')'):\n",
        "        expression = expression[1:-1]\n",
        "\n",
        "    parsed_expression = ast.parse(expression).body[0]\n",
        "\n",
        "    if isinstance(parsed_expression, ast.Assign):\n",
        "        target_var = parsed_expression.targets[0].id\n",
        "        result_temp = _generate_TAC_recursive(parsed_expression.value)\n",
        "        tac_code.append(f'{target_var} = {result_temp}')\n",
        "    else:\n",
        "        result_temp = _generate_TAC_recursive(parsed_expression)\n",
        "        tac_code.append(f'Result = {result_temp}')\n",
        "\n",
        "    return tac_code, temp_variables\n",
        "\n",
        "\n",
        "expression = input(\"Enter a universal expression (d=a+b-c+d*100-500*2)(d=1+2-5+6*100-500*2): \")\n",
        "tac_code, temp_variables = generate_TAC(expression)\n",
        "\n",
        "# for line in tac_code:\n",
        "#     print(line)\n",
        "\n",
        "print(\"\\nTemporary Variables Table:\")\n",
        "if temp_variables:\n",
        "    print(\"Temp\\tOperand1\\tOperand2\\tOperator\")\n",
        "    for var, op1, op2, op in temp_variables:\n",
        "        print(f\"\\t{op1}\\t\\t{op2}\\t\\t{op}\")\n"
      ],
      "metadata": {
        "colab": {
          "base_uri": "https://localhost:8080/"
        },
        "id": "cM5VMKSc_AJA",
        "outputId": "140c009c-d850-411e-9145-544af6c0391e"
      },
      "execution_count": null,
      "outputs": [
        {
          "output_type": "stream",
          "name": "stdout",
          "text": [
            "Enter a universal expression (d=a+b-c+d*100-500*2)(d=1+2-5+6*100-500*2): d=a+b-c+d*100-500*2\n",
            "\n",
            "Temporary Variables Table:\n",
            "Temp\tOperand1\tOperand2\tOperator\n",
            "\ta\t\tb\t\t+\n",
            "\tt1\t\tc\t\t-\n",
            "\td\t\t100\t\t*\n",
            "\tt2\t\tt3\t\t+\n",
            "\t500\t\t2\t\t*\n",
            "\tt4\t\tt5\t\t-\n"
          ]
        }
      ]
    },
    {
      "cell_type": "code",
      "source": [],
      "metadata": {
        "id": "PaRdpzgFoy-R"
      },
      "execution_count": null,
      "outputs": []
    }
  ]
}