{
  "nbformat": 4,
  "nbformat_minor": 0,
  "metadata": {
    "colab": {
      "provenance": []
    },
    "kernelspec": {
      "name": "python3",
      "display_name": "Python 3"
    },
    "language_info": {
      "name": "python"
    }
  },
  "cells": [
    {
      "cell_type": "code",
      "source": [
        "def execute_assembly(code):\n",
        "    memory = [0] * 100\n",
        "    accumulator = 0\n",
        "    pc = 0\n",
        "\n",
        "    while code[pc][0] != 'HLT':\n",
        "        instruction = code[pc][0]\n",
        "\n",
        "        if instruction == 'INP':\n",
        "            operand = code[pc][1]\n",
        "            # Access the 'location' from the symbol table dictionary\n",
        "            memory[symbol_table[operand]['location']] = int(input(f\"Enter value for {operand}: \"))\n",
        "        elif instruction == 'OUT':\n",
        "            operand = code[pc][1]\n",
        "            # Access the 'location' from the symbol table dictionary\n",
        "            print(f\"Output: {memory[symbol_table[operand]['location']]}\")\n",
        "        elif instruction == 'STO':\n",
        "            operand = code[pc][1]\n",
        "            # Access the 'location' from the symbol table dictionary\n",
        "            memory[symbol_table[operand]['location']] = accumulator\n",
        "            print(accumulator)\n",
        "        elif instruction == 'ADD':\n",
        "            operand = code[pc][1]\n",
        "            # Access the 'location' from the symbol table dictionary\n",
        "            accumulator += memory[symbol_table[operand]['location']]\n",
        "        # Handle other instructions (SUB, MUL, DIV, BRZ, BRN, BRP, BRA) similarly\n",
        "        pc += 1  # Move to the next instruction"
      ],
      "metadata": {
        "id": "qVT8UWkOEyPK"
      },
      "execution_count": null,
      "outputs": []
    },
    {
      "cell_type": "code",
      "source": [
        "mnemonic_table = {\n",
        "    \"INP\": 1,\n",
        "    \"OUT\": 2,\n",
        "    \"STO\": 3,\n",
        "    \"ADD\": 4,\n",
        "    \"HLT\": 5,\n",
        "    \"DS\": 0\n",
        "}\n",
        "\n",
        "symbol_table = {}\n",
        "\n",
        "assembly_code = [\n",
        "    (\"DS\", \"D\", 1),\n",
        "    (\"DS\", \"B\", 1),\n",
        "    (\"INP\", \"D\"),\n",
        "    (\"ADD\", \"D\"),\n",
        "    (\"STO\", \"D\"),\n",
        "    (\"INP\", \"B\"),\n",
        "    (\"ADD\", \"B\"),\n",
        "    (\"STO\", \"C\"),    # Store the result back into A\n",
        "    (\"OUT\", \"C\"),    # Output the updated value of A\n",
        "    (\"HLT\",)\n",
        "]\n",
        "\n",
        "# First Pass: Build Symbol Table\n",
        "location_counter = 0\n",
        "for instruction in assembly_code:\n",
        "    if instruction[0] == \"DS\":\n",
        "        symbol_table[instruction[1]] = {'defined': 1, 'used': 0, 'location': location_counter}\n",
        "        location_counter += instruction[2]\n",
        "    else:\n",
        "        # Update symbol table for used variables\n",
        "        if len(instruction) > 1:\n",
        "            operand = instruction[1]\n",
        "            if operand not in symbol_table:\n",
        "                symbol_table[operand] = {'defined': 0, 'used': 1, 'location': 0}  # Initialize with used = 1\n",
        "            else:\n",
        "                symbol_table[operand]['used'] = 1  # Mark as used if already in the table\n",
        "\n",
        "# Second Pass: Execute Code\n",
        "execute_assembly(assembly_code)\n",
        "# Print Symbol Table (for demonstration)\n",
        "print(\"Symbol Table:\")\n",
        "for symbol, entry in symbol_table.items():\n",
        "    print(f\"{symbol}: {entry}\")"
      ],
      "metadata": {
        "id": "3kgQOlAaIu3M",
        "outputId": "36bd7458-28b8-430a-850c-d2ec987a79f4",
        "colab": {
          "base_uri": "https://localhost:8080/"
        }
      },
      "execution_count": null,
      "outputs": [
        {
          "output_type": "stream",
          "name": "stdout",
          "text": [
            "Enter value for D: 1\n",
            "1\n",
            "Enter value for B: 5\n",
            "6\n",
            "Output: 6\n",
            "Symbol Table:\n",
            "D: {'defined': 1, 'used': 1, 'location': 0}\n",
            "B: {'defined': 1, 'used': 1, 'location': 1}\n",
            "C: {'defined': 0, 'used': 1, 'location': 0}\n"
          ]
        }
      ]
    }
  ]
}