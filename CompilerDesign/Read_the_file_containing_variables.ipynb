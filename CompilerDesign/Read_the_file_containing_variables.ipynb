{
  "nbformat": 4,
  "nbformat_minor": 0,
  "metadata": {
    "colab": {
      "provenance": []
    },
    "kernelspec": {
      "name": "python3",
      "display_name": "Python 3"
    },
    "language_info": {
      "name": "python"
    }
  },
  "cells": [
    {
      "cell_type": "code",
      "execution_count": null,
      "metadata": {
        "colab": {
          "base_uri": "https://localhost:8080/"
        },
        "id": "Uzo8ItPopEeP",
        "outputId": "268bb09a-e4cc-4854-95c7-3d3672b20e38"
      },
      "outputs": [
        {
          "output_type": "stream",
          "name": "stdout",
          "text": [
            "\n",
            "ID    Name       DataType   Used  Defined  MemLoc   Value     \n",
            "1     a          int        1     1        1        N/A       \n",
            "2     pi         float      1     1        2        N/A       \n",
            "3     ch         char       1     1        3        N/A       \n",
            "4     b          Unknown    1     0        6        N/A       \n",
            "5     c          Unknown    1     0        7        N/A       \n"
          ]
        }
      ],
      "source": [
        "import re\n",
        "\n",
        "symbol_table = []\n",
        "symbol_count = 0\n",
        "\n",
        "def add_symbol(name, data_type, defined, used, mem_loc, value):\n",
        "    global symbol_count\n",
        "    symbol_count += 1\n",
        "    symbol_table.append({\n",
        "        \"ID\": symbol_count,\n",
        "        \"Name\": name,\n",
        "        \"DataType\": data_type,\n",
        "        \"Used\": used,\n",
        "        \"Defined\": defined,\n",
        "        \"MemLoc\": mem_loc,\n",
        "        \"Value\": value\n",
        "    })\n",
        "\n",
        "def display_symbol_table():\n",
        "    print(f\"\\n{'ID':<5} {'Name':<10} {'DataType':<10} {'Used':<5} {'Defined':<8} {'MemLoc':<8} {'Value':<10}\")\n",
        "    for entry in symbol_table:\n",
        "        print(f\"{entry['ID']:<5} {entry['Name']:<10} {entry['DataType']:<10} {entry['Used']:<5} \"\n",
        "              f\"{entry['Defined']:<8} {entry['MemLoc']:<8} {entry['Value']:<10}\")\n",
        "\n",
        "def process_code(file_path):\n",
        "    with open(file_path, 'r') as file:\n",
        "        lines = file.readlines()\n",
        "\n",
        "    data_type_patterns = ['int', 'float', 'char', 'double']\n",
        "    variable_pattern = re.compile(r'\\b([a-zA-Z_][a-zA-Z0-9_]*)\\b')\n",
        "\n",
        "    for line_num, line in enumerate(lines, start=1):\n",
        "        tokens = line.split()\n",
        "        for token in tokens:\n",
        "\n",
        "            if token in data_type_patterns:\n",
        "\n",
        "                next_token = tokens[tokens.index(token) + 1]\n",
        "                if next_token.isidentifier():\n",
        "                    add_symbol(next_token, token, defined=1, used=0, mem_loc=line_num, value='N/A')\n",
        "\n",
        "            elif variable_pattern.match(token):\n",
        "                for symbol in symbol_table:\n",
        "                    if symbol[\"Name\"] == token:\n",
        "                        symbol[\"Used\"] = 1\n",
        "                        break\n",
        "                else:\n",
        "                    add_symbol(token, \"Unknown\", defined=0, used=1, mem_loc=line_num, value='N/A')\n",
        "\n",
        "file_path = 'test.txt'\n",
        "process_code(file_path)\n",
        "display_symbol_table()"
      ]
    }
  ]
}